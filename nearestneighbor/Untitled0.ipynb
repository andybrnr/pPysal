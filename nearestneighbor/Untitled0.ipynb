{
 "metadata": {
  "name": "",
  "signature": "sha256:4aaf8fb15deb40554d5a8e2a1b60c92b9af5b024500ce4a3b4b1a01df022f8ef"
 },
 "nbformat": 3,
 "nbformat_minor": 0,
 "worksheets": [
  {
   "cells": [
    {
     "cell_type": "code",
     "collapsed": false,
     "input": [
      "import itertools\n",
      "import math\n",
      "from scipy.spatial.distance import euclidean\n",
      "%pylab inline"
     ],
     "language": "python",
     "metadata": {},
     "outputs": [
      {
       "output_type": "stream",
       "stream": "stdout",
       "text": [
        "Populating the interactive namespace from numpy and matplotlib\n"
       ]
      }
     ],
     "prompt_number": 2
    },
    {
     "cell_type": "code",
     "collapsed": false,
     "input": [
      "randst = np.random.RandomState(123456789)\n",
      "S = randst.rand(20).reshape(-1, 2)\n",
      "S = np.vstack((S,np.array([0.65, 0.68])))"
     ],
     "language": "python",
     "metadata": {},
     "outputs": [],
     "prompt_number": 3
    },
    {
     "cell_type": "markdown",
     "metadata": {},
     "source": [
      "###1."
     ]
    },
    {
     "cell_type": "code",
     "collapsed": false,
     "input": [
      "#Globally Sort by y-coordinate\n",
      "S = S[S[:, 1].argsort()]"
     ],
     "language": "python",
     "metadata": {},
     "outputs": [],
     "prompt_number": 4
    },
    {
     "cell_type": "code",
     "collapsed": false,
     "input": [
      "#Create horizontal (and vertical bounding lines - used later)\n",
      "horiz = vert = np.linspace(0,1.0,4)\n",
      "print horiz\n",
      "print vert\n",
      "\n",
      "x, y = np.meshgrid(horiz, vert)\n",
      "plot(x, y)\n",
      "plot(y, x)\n",
      "plot(S[:,0],S[:,1], 'o')\n",
      "\n",
      "labels = np.arange(len(S))\n",
      "for label, x, y in zip(labels, S[:, 0], S[:, 1]):\n",
      "    annotate(label, \n",
      "             xy = (x, y), xytext = (6, 3),\n",
      "             textcoords = 'offset points', ha = 'right', va = 'bottom')"
     ],
     "language": "python",
     "metadata": {},
     "outputs": [
      {
       "output_type": "stream",
       "stream": "stdout",
       "text": [
        "[ 0.          0.33333333  0.66666667  1.        ]\n",
        "[ 0.          0.33333333  0.66666667  1.        ]\n"
       ]
      },
      {
       "metadata": {},
       "output_type": "display_data",
       "png": "[encoded data removed]",
       "text": [
        "<matplotlib.figure.Figure at 0x105748350>"
       ]
      }
     ],
     "prompt_number": 5
    },
    {
     "cell_type": "code",
     "collapsed": false,
     "input": [
      "#Using the global sort, processor p stores the bounding horizontals and the pts contained within\n",
      "lookup = {}\n",
      "for i in range(len(S)):\n",
      "    lookup[tuple(S[i])] = i\n",
      "\n",
      "Hij = {}\n",
      "for i in range(len(S)):\n",
      "    Hij[i] = (np.inf, -1)\n",
      "    \n",
      "for i in range(1,4):\n",
      "    p1 = S[np.where((S[:,1] > horiz[i-1]) & (S[:,1] < horiz[i]))]\n",
      "\n",
      "    #This is replicated for each core in the set P\n",
      "    for p in itertools.combinations(p1, 2):  \n",
      "        a, b = p\n",
      "        ka = lookup[tuple(a)]\n",
      "        kb = lookup[tuple(b)]\n",
      "        dist = euclidean(a,b)\n",
      "        if dist < Hij[ka][0]:\n",
      "            Hij[ka] = (dist, kb)\n",
      "        if dist < Hij[kb][0]:\n",
      "            Hij[kb] = (dist, ka)"
     ],
     "language": "python",
     "metadata": {},
     "outputs": [],
     "prompt_number": 6
    },
    {
     "cell_type": "markdown",
     "metadata": {},
     "source": [
      "###2"
     ]
    },
    {
     "cell_type": "code",
     "collapsed": false,
     "input": [
      "#Process all vertical columns as above\n",
      "Vij = {}\n",
      "for i in range(len(S)):\n",
      "    Vij[i] = (np.inf, -1)\n",
      "\n",
      "for i in range(1,4):\n",
      "    p1 = S[np.where((S[:,0] > vert[i-1]) & (S[:,0] < vert[i]))]\n",
      "\n",
      "    #This is replicated for each core in the set P\n",
      "    for p in itertools.combinations(p1, 2):  \n",
      "        a, b = p\n",
      "        ka = lookup[tuple(a)]\n",
      "        kb = lookup[tuple(b)]\n",
      "        dist = euclidean(a,b)\n",
      "        if dist < Vij[ka][0]:\n",
      "            Vij[ka] = (dist, kb)\n",
      "        if dist < Vij[kb][0]:\n",
      "            Vij[kb] = (dist, ka)\n",
      "\n",
      "print Vij"
     ],
     "language": "python",
     "metadata": {},
     "outputs": [
      {
       "output_type": "stream",
       "stream": "stdout",
       "text": [
        "{0: (0.08669582752535794, 1), 1: (0.08669582752535794, 0), 2: (0.12304015044166737, 3), 3: (0.12304015044166737, 2), 4: (0.18093137062065548, 7), 5: (0.11790441517871283, 8), 6: (0.14440184923573685, 7), 7: (0.14440184923573685, 6), 8: (0.11790441517871283, 5), 9: (0.08215464548813665, 10), 10: (0.08215464548813665, 9)}\n"
       ]
      }
     ],
     "prompt_number": 7
    },
    {
     "cell_type": "code",
     "collapsed": false,
     "input": [
      "for k, v in Hij.iteritems():\n",
      "    print k, \"Horizontal:\",v[1], \"Vertical:\",Vij[k][1]\n",
      "\n",
      "x, y = np.meshgrid(horiz, vert)\n",
      "plot(x, y)\n",
      "plot(y, x)\n",
      "plot(S[:,0],S[:,1], 'o')\n",
      "\n",
      "labels = np.arange(len(S))\n",
      "for label, x, y in zip(labels, S[:, 0], S[:, 1]):\n",
      "    annotate(label, \n",
      "             xy = (x, y), xytext = (6, 3),\n",
      "             textcoords = 'offset points', ha = 'right', va = 'bottom')"
     ],
     "language": "python",
     "metadata": {},
     "outputs": [
      {
       "output_type": "stream",
       "stream": "stdout",
       "text": [
        "0 Horizontal: 1 Vertical: 1\n",
        "1 Horizontal: 0 Vertical: 0\n",
        "2 Horizontal: 0 Vertical: 3\n",
        "3 Horizontal: 4 Vertical: 2\n",
        "4 Horizontal: 5 Vertical: 7\n",
        "5 Horizontal: 4 Vertical: 8\n",
        "6 Horizontal: 8 Vertical: 7\n",
        "7 Horizontal: 6 Vertical: 6\n",
        "8 Horizontal: 6 Vertical: 5\n",
        "9 Horizontal: 10 Vertical: 10\n",
        "10 Horizontal: 9 Vertical: 9\n"
       ]
      },
      {
       "metadata": {},
       "output_type": "display_data",
       "png": "[encoded data removed]",
       "text": [
        "<matplotlib.figure.Figure at 0x10586bad0>"
       ]
      }
     ],
     "prompt_number": 8
    },
    {
     "cell_type": "markdown",
     "metadata": {},
     "source": [
      "Each core knows all horizontals and it's bounding verticals.  Therefore, compute $I_{ij}$ using the available subsets of information\n"
     ]
    },
    {
     "cell_type": "code",
     "collapsed": false,
     "input": [
      "Iij = np.array(list(itertools.product(vert, horiz)))\n",
      "print Iij\n",
      "for i in range(len(Iij)):\n",
      "    lookup[tuple(Iij[i])] = -i"
     ],
     "language": "python",
     "metadata": {},
     "outputs": [
      {
       "output_type": "stream",
       "stream": "stdout",
       "text": [
        "[[ 0.          0.        ]\n",
        " [ 0.          0.33333333]\n",
        " [ 0.          0.66666667]\n",
        " [ 0.          1.        ]\n",
        " [ 0.33333333  0.        ]\n",
        " [ 0.33333333  0.33333333]\n",
        " [ 0.33333333  0.66666667]\n",
        " [ 0.33333333  1.        ]\n",
        " [ 0.66666667  0.        ]\n",
        " [ 0.66666667  0.33333333]\n",
        " [ 0.66666667  0.66666667]\n",
        " [ 0.66666667  1.        ]\n",
        " [ 1.          0.        ]\n",
        " [ 1.          0.33333333]\n",
        " [ 1.          0.66666667]\n",
        " [ 1.          1.        ]]\n"
       ]
      }
     ],
     "prompt_number": 9
    },
    {
     "cell_type": "markdown",
     "metadata": {},
     "source": [
      "Compute $C_{ij}$ as the set of all points in $V_{ij}$ which are closer to a member of $I_{ij}$ than to a member of $V_{j}$ an is not a member of $H_{i}$."
     ]
    },
    {
     "cell_type": "code",
     "collapsed": false,
     "input": [
      "Cij = {}\n",
      "for i in range(len(S)):\n",
      "    Cij[i] = (np.inf, 0)\n",
      "\n",
      "for i in range(1,4):\n",
      "    p1 = S[np.where((S[:,0] > vert[i-1]) & (S[:,0] < vert[i]))]\n",
      "    bounds = Iij[np.where((Iij[:,0] >= vert[i-1]) & (Iij[:,0] <= vert[i]))]\n",
      "\n",
      "    #This is replicated for each core in the set P\n",
      "    for p in itertools.product(p1, bounds):\n",
      "        a, b = p\n",
      "        ka = lookup[tuple(a)]\n",
      "        kb = lookup[tuple(b)]\n",
      "        dist = euclidean(a,b)\n",
      "        if ka in Vij.keys():\n",
      "            if dist < Vij[ka][0]:\n",
      "                Cij[ka] = (dist, kb)\n",
      "        if kb in Vij.keys():\n",
      "            if dist < Vij[kb][0]:\n",
      "                Cij[kb] = (dist, ka)\n",
      "remove = []\n",
      "for k, v in Cij.iteritems():\n",
      "    if v[0] == np.inf:\n",
      "        remove.append(k)\n",
      "for k in remove:\n",
      "    Cij.pop(k, None)"
     ],
     "language": "python",
     "metadata": {},
     "outputs": [],
     "prompt_number": 11
    },
    {
     "cell_type": "code",
     "collapsed": false,
     "input": [
      "x, y = np.meshgrid(horiz, vert)\n",
      "plot(x, y)\n",
      "plot(y, x)\n",
      "plot(x,y, 'ro')\n",
      "plot(S[:,0],S[:,1], 'o')\n",
      "\n",
      "labels = np.arange(len(S))\n",
      "Iijlabel = np.arange(len(Iij))\n",
      "Iijlabel *= -1\n",
      "\n",
      "#Label the pts\n",
      "for label, x, y in zip(labels, S[:, 0], S[:, 1]):\n",
      "    annotate(label, \n",
      "             xy = (x, y), xytext = (6, 3),\n",
      "             textcoords = 'offset points', ha = 'right', va = 'bottom')\n",
      "    \n",
      "for label, x, y in zip(Iijlabel, Iij[:, 0], Iij[:, 1]):\n",
      "    annotate(label, \n",
      "             xy = (x, y), xytext = (-2, 2),\n",
      "             textcoords = 'offset points', ha = 'right', va = 'bottom')  \n",
      "xlabel(r'$V_{j}$', fontsize=18)\n",
      "ylabel(r'$H_{i}$', fontsize=18)\n",
      "xticks([])\n",
      "yticks([])\n",
      "\n",
      "\n",
      "Cij"
     ],
     "language": "python",
     "metadata": {},
     "outputs": [
      {
       "metadata": {},
       "output_type": "pyout",
       "prompt_number": 12,
       "text": [
        "{2: (0.10258529611325132, -1),\n",
        " 3: (0.023634018340308822, -1),\n",
        " 5: (0.023543386877573954, -10),\n",
        " 6: (0.021343747458109505, -10),\n",
        " 8: (0.09989044874270481, -10)}"
       ]
      },
      {
       "metadata": {},
       "output_type": "display_data",
       "png": "[encoded data removed]",
       "text": [
        "<matplotlib.figure.Figure at 0x10578e710>"
       ]
      }
     ],
     "prompt_number": 12
    },
    {
     "cell_type": "markdown",
     "metadata": {},
     "source": [
      "Checks for Iij at the boundry corners are redundant, in that, we know that the nearest neighbor is not off the edge of the ROI."
     ]
    },
    {
     "cell_type": "markdown",
     "metadata": {},
     "source": [
      "###3. \n",
      "a. Compute $C_{ij}$\n",
      "\n",
      "b. Then using the $H_{i}$ membership points, check all $H_{i}$ to $C_{i}$ distances"
     ]
    },
    {
     "cell_type": "markdown",
     "metadata": {},
     "source": [
      "$H_{1} = {2, 0, 1}\\\\\n",
      "H_{2} = {3, 4, 5}\\\\\n",
      "H_{3} = {10, 9, 7, 6, 8}$\n",
      "\n",
      "$V_{1} = {2, 3, 10, 9}\\\\\n",
      "V_{2} = {4, 6, 7}\\\\\n",
      "V_{3} = {0, 1, 5, 8}$\n",
      "\n",
      "$\n",
      "C_{3,1} = \\{ \\} C_{3,2} = \\{\\} C_{3,3} = \\{5\\}\\\\\n",
      "C_{2,1} = \\{2\\} C_{2,2} = \\{6\\} C_{2,3} = \\{8\\}\\\\\n",
      "C_{1,1} = \\{3\\} C_{1,2} = \\{2\\} C_{1,3} = \\{5,8\\}\\\\$"
     ]
    },
    {
     "cell_type": "markdown",
     "metadata": {},
     "source": [
      "By way of example, consider the following set computations for the $H_{1}$ row:\n",
      "\n",
      "$C_{1} = \\cup_{j=1}^p C_{1j} = \\{3, 2, 5, 8\\}\\\\\n",
      "H_{1} \\cup C{1} = \\{2, 0, 1, 3, 5, 8\\}$\n",
      "\n",
      "Nearest Neighbor 2, 0, 1 have already been computer, so a reduced number of computations is required."
     ]
    },
    {
     "cell_type": "markdown",
     "metadata": {},
     "source": [
      "How is it that the maximum cardinality of $C_{ij}$ is 8?"
     ]
    },
    {
     "cell_type": "code",
     "collapsed": false,
     "input": [],
     "language": "python",
     "metadata": {},
     "outputs": [],
     "prompt_number": 17
    },
    {
     "cell_type": "code",
     "collapsed": false,
     "input": [],
     "language": "python",
     "metadata": {},
     "outputs": []
    }
   ],
   "metadata": {}
  }
 ]
}