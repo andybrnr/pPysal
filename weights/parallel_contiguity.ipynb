{
 "metadata": {
  "name": "parallel_contiguity"
 },
 "nbformat": 3,
 "nbformat_minor": 0,
 "worksheets": [
  {
   "cells": [
    {
     "cell_type": "code",
     "collapsed": false,
     "input": [
      "run _contW_binning_par.py"
     ],
     "language": "python",
     "metadata": {},
     "outputs": [
      {
       "output_type": "stream",
       "stream": "stdout",
       "text": [
        "using /Users/serge/Dropbox/pysal/src/git/pysal/pysal/examples/10740.shp\n",
        "time elapsed for ... using bins: 0.239125967026\n",
        "time refactored prior to parallelization: "
       ]
      },
      {
       "output_type": "stream",
       "stream": "stdout",
       "text": [
        " 0.0855729579926\n",
        "True\n"
       ]
      }
     ],
     "prompt_number": 46
    },
    {
     "cell_type": "code",
     "collapsed": false,
     "input": [
      "from IPython.parallel import Client"
     ],
     "language": "python",
     "metadata": {},
     "outputs": [],
     "prompt_number": 47
    },
    {
     "cell_type": "code",
     "collapsed": false,
     "input": [
      "c = Client()\n",
      "v = c.load_balanced_view()\n",
      "n_cores = len(v)\n"
     ],
     "language": "python",
     "metadata": {},
     "outputs": [],
     "prompt_number": 48
    },
    {
     "cell_type": "code",
     "collapsed": false,
     "input": [
      "def pcheck_joins(poly2cells, cells, shapes, weight_type='ROOK', polygon_ids = []):\n",
      "    x = 0\n",
      "    for i in xrange(100000):\n",
      "        x += i\n",
      "    \n",
      "    def bbcommon(bb, bbother):\n",
      "        \"\"\"\n",
      "        Checks for overlaps of bounding boxes. First, east-west, then north-south.\n",
      "        Element 0 is west, element 2 is east, element 1 is north?, element 3 is\n",
      "        south?\n",
      "        All four checks must be false for chflag to be true, meaning the two\n",
      "        bounding boxes do not overlap.\n",
      "        \"\"\"\n",
      "        chflag = 0\n",
      "        if not ((bbother[2] < bb[0]) or (bbother[0] > bb[2])):\n",
      "            if not ((bbother[3] < bb[1]) or (bbother[1] > bb[3])):\n",
      "                chflag = 1\n",
      "        return chflag\n",
      "    \n",
      "    if polygon_ids == []:\n",
      "        polygon_ids = range(len(poly2cells))\n",
      "    w = {}\n",
      "    weight_type = weight_type.upper()\n",
      "    for poly_id in polygon_ids:\n",
      "        poly_cells = poly2cells[poly_id]\n",
      "        candidates = set()\n",
      "        for cell in poly_cells:\n",
      "            candidates = candidates.union(cells[cell])\n",
      "        candidates.discard(poly_id)\n",
      "        # only check half-set\n",
      "        candidates = [ poly for poly in candidates if poly > poly_id ] \n",
      "        p0 = shapes[poly_id]\n",
      "        verts0 = set(p0.vertices)\n",
      "        if poly_id not in w:\n",
      "            w[poly_id] = set()\n",
      "        for id1 in candidates:\n",
      "            join = False\n",
      "            p1 = shapes[id1]\n",
      "            if bbcommon(p0.bounding_box,p1.bounding_box):\n",
      "                common = verts0.intersection(p1.vertices)\n",
      "                if len(common) > 1:\n",
      "                    join = True\n",
      "                if len(common) > 0 and weight_type == 'QUEEN':\n",
      "                    join = True\n",
      "                if join:\n",
      "                    w[poly_id].add(id1)\n",
      "                    if id1 not in w:\n",
      "                        w[id1] = set()\n",
      "                    w[id1].add(poly_id)\n",
      "    return w\n"
     ],
     "language": "python",
     "metadata": {},
     "outputs": [],
     "prompt_number": 49
    },
    {
     "cell_type": "code",
     "collapsed": false,
     "input": [
      "t1 = time.time()\n",
      "w = pcheck_joins(res['poly2cells'], res['cells'], res['shapes'], 'ROOK')\n",
      "t2 = time.time()"
     ],
     "language": "python",
     "metadata": {},
     "outputs": [],
     "prompt_number": 67
    },
    {
     "cell_type": "code",
     "collapsed": true,
     "input": [
      "n = len(res['poly2cells'])"
     ],
     "language": "python",
     "metadata": {},
     "outputs": [],
     "prompt_number": 60
    },
    {
     "cell_type": "code",
     "collapsed": false,
     "input": [
      "n"
     ],
     "language": "python",
     "metadata": {},
     "outputs": [
      {
       "output_type": "pyout",
       "prompt_number": 61,
       "text": [
        "195"
       ]
      }
     ],
     "prompt_number": 61
    },
    {
     "cell_type": "code",
     "collapsed": false,
     "input": [
      "\n",
      "starts = range(0,n,n/n_cores)\n",
      "ends = starts[1:]\n",
      "ends.append(n)"
     ],
     "language": "python",
     "metadata": {},
     "outputs": [],
     "prompt_number": 62
    },
    {
     "cell_type": "code",
     "collapsed": false,
     "input": [
      "\n",
      "offsets = [ range(z[0],z[1]) for z in zip(starts, ends) ]"
     ],
     "language": "python",
     "metadata": {},
     "outputs": [],
     "prompt_number": 63
    },
    {
     "cell_type": "code",
     "collapsed": true,
     "input": [
      "t3 = time.time()\n",
      "wp = dict([ (i, set()) for i in range(n)])\n",
      "for offset in offsets:\n",
      "    r = v.apply_async(pcheck_joins, res['poly2cells'], res['cells'], res['shapes'], 'ROOK', offset)\n",
      "    rk = r.get()\n",
      "    for key in rk:\n",
      "        wp[key] = wp[key].union(rk[key])\n",
      "    \n",
      "t4 = time.time()"
     ],
     "language": "python",
     "metadata": {},
     "outputs": [],
     "prompt_number": 68
    },
    {
     "cell_type": "code",
     "collapsed": false,
     "input": [
      "wp"
     ],
     "language": "python",
     "metadata": {},
     "outputs": [
      {
       "output_type": "pyout",
       "prompt_number": 69,
       "text": [
        "{0: set([1, 5, 4, 101, 85]),\n",
        " 1: set([0, 2, 83, 4]),\n",
        " 2: set([83, 1, 10, 3]),\n",
        " 3: set([2, 4, 13, 7]),\n",
        " 4: set([0, 1, 3, 6]),\n",
        " 5: set([0, 9, 18, 101, 6]),\n",
        " 6: set([9, 4, 5, 7]),\n",
        " 7: set([8, 3, 14, 6]),\n",
        " 8: set([9, 20, 14, 7]),\n",
        " 9: set([8, 18, 19, 5, 6]),\n",
        " 10: set([2, 11, 82, 13]),\n",
        " 11: set([10, 12, 77, 23]),\n",
        " 12: set([26, 11, 13, 15]),\n",
        " 13: set([10, 3, 12, 14]),\n",
        " 14: set([8, 16, 15, 13, 7]),\n",
        " 15: set([17, 27, 12, 14]),\n",
        " 16: set([33, 36, 21, 17, 20, 14]),\n",
        " 17: set([16, 33, 27, 15]),\n",
        " 18: set([19, 5, 22, 40, 9, 101]),\n",
        " 19: set([9, 18, 20, 22]),\n",
        " 20: set([8, 16, 19, 21]),\n",
        " 21: set([16, 36, 20, 22]),\n",
        " 22: set([41, 18, 19, 36, 21]),\n",
        " 23: set([24, 26, 11, 79]),\n",
        " 24: set([25, 97, 73, 23]),\n",
        " 25: set([24, 73, 26, 28]),\n",
        " 26: set([25, 27, 12, 23]),\n",
        " 27: set([17, 26, 28, 30, 15]),\n",
        " 28: set([25, 27, 30, 73]),\n",
        " 29: set([57, 55, 56, 73, 58, 30, 31]),\n",
        " 30: set([33, 27, 28, 29, 31]),\n",
        " 31: set([32, 33, 29, 30]),\n",
        " 32: set([48, 55, 35, 46, 31]),\n",
        " 33: set([16, 17, 34, 35, 37, 30, 31]),\n",
        " 34: set([33, 35, 37, 45]),\n",
        " 35: set([32, 33, 34, 45, 47]),\n",
        " 36: set([16, 21, 22, 41, 38, 37]),\n",
        " 37: set([33, 34, 36, 38, 44, 45]),\n",
        " 38: set([36, 37, 39, 40, 41, 42, 43]),\n",
        " 39: set([101, 38, 103, 40, 42, 43, 44]),\n",
        " 40: set([41, 18, 101, 38, 39]),\n",
        " 41: set([40, 36, 38, 22]),\n",
        " 42: set([43, 38, 39]),\n",
        " 43: set([42, 44, 38, 39]),\n",
        " 44: set([37, 39, 104, 138, 43, 45, 46, 47, 48, 49, 50, 103]),\n",
        " 45: set([34, 35, 44, 37, 47]),\n",
        " 46: set([32, 48, 44, 47]),\n",
        " 47: set([35, 44, 45, 46]),\n",
        " 48: set([32, 49, 44, 46]),\n",
        " 49: set([48, 50, 44, 55]),\n",
        " 50: set([49, 51, 53, 54, 55, 104, 44]),\n",
        " 51: set([104, 50, 52, 53]),\n",
        " 52: set([51, 53, 104, 59, 60, 61]),\n",
        " 53: set([50, 51, 52, 54, 58, 59]),\n",
        " 54: set([56, 57, 50, 53, 55]),\n",
        " 55: set([32, 49, 50, 54, 56, 29]),\n",
        " 56: set([57, 29, 54, 55]),\n",
        " 57: set([56, 58, 29, 54]),\n",
        " 58: set([66, 67, 53, 57, 59, 29]),\n",
        " 59: set([60, 58, 52, 66, 53]),\n",
        " 60: set([64, 65, 66, 52, 59, 61]),\n",
        " 61: set([52, 105, 106, 60, 62, 63]),\n",
        " 62: set([64, 113, 131, 61, 63]),\n",
        " 63: set([113, 61, 62]),\n",
        " 64: set([65, 66, 67, 68, 69, 60, 62]),\n",
        " 65: set([64, 66, 60]),\n",
        " 66: set([64, 65, 67, 58, 59, 60]),\n",
        " 67: set([64, 66, 68, 72, 73, 58]),\n",
        " 68: set([64, 72, 67, 69, 70]),\n",
        " 69: set([64, 131, 68, 70]),\n",
        " 70: set([131, 68, 69, 71, 72, 75]),\n",
        " 71: set([72, 73, 74, 75, 70]),\n",
        " 72: set([73, 67, 68, 70, 71]),\n",
        " 73: set([72, 98, 67, 97, 71, 24, 25, 74, 28, 29]),\n",
        " 74: set([73, 98, 75, 76, 71]),\n",
        " 75: set([124, 74, 76, 70, 71]),\n",
        " 76: set([98, 75, 118, 121, 74, 139]),\n",
        " 77: set([97, 82, 81, 88, 89, 11, 79]),\n",
        " 78: set([80, 96, 94, 87]),\n",
        " 79: set([97, 77, 23]),\n",
        " 80: set([78, 81, 87, 88, 90, 91, 92, 94]),\n",
        " 81: set([80, 82, 92, 77]),\n",
        " 82: set([81, 10, 83, 77]),\n",
        " 83: set([1, 2, 85, 91, 92, 82]),\n",
        " 84: set([146, 101, 95, 139, 93, 85]),\n",
        " 85: set([0, 83, 84, 101, 90, 91, 93]),\n",
        " 86: set([96, 98, 139, 87]),\n",
        " 87: set([80, 98, 86, 88, 89, 78]),\n",
        " 88: set([80, 89, 77, 87]),\n",
        " 89: set([88, 97, 98, 77, 87]),\n",
        " 90: set([80, 91, 85, 93]),\n",
        " 91: set([80, 90, 83, 92, 85]),\n",
        " 92: set([80, 81, 91, 83]),\n",
        " 93: set([90, 84, 85, 94, 95]),\n",
        " 94: set([80, 96, 93, 78, 95]),\n",
        " 95: set([96, 139, 84, 93, 94]),\n",
        " 96: set([139, 78, 86, 94, 95]),\n",
        " 97: set([98, 89, 24, 73, 77, 79]),\n",
        " 98: set([97, 86, 87, 73, 74, 139, 76, 89]),\n",
        " 99: set([146, 100, 101]),\n",
        " 100: set([99, 101, 102]),\n",
        " 101: set([0, 99, 100, 5, 102, 39, 40, 103, 146, 18, 84, 85]),\n",
        " 102: set([171, 100, 101, 103]),\n",
        " 103: set([101, 102, 39, 138, 171, 44, 173]),\n",
        " 104: set([105, 138, 44, 111, 112, 108, 50, 51, 52, 137]),\n",
        " 105: set([104, 106, 108, 61, 109]),\n",
        " 106: set([105, 107, 61, 134, 113]),\n",
        " 107: set([116, 117, 134, 106, 109, 111]),\n",
        " 108: set([104, 105, 109, 111]),\n",
        " 109: set([105, 107, 108, 111]),\n",
        " 110: set([112, 137, 117]),\n",
        " 111: set([112, 117, 104, 107, 108, 109]),\n",
        " 112: set([104, 137, 117, 110, 111]),\n",
        " 113: set([132, 133, 134, 106, 114, 115, 62, 63]),\n",
        " 114: set([113, 115, 116, 133, 135]),\n",
        " 115: set([113, 114, 116, 134]),\n",
        " 116: set([114, 115, 117, 134, 135, 107]),\n",
        " 117: set([112, 116, 135, 137, 107, 110, 111]),\n",
        " 118: set([160, 148, 149, 119, 121, 139, 76]),\n",
        " 119: set([120, 153, 118, 121]),\n",
        " 120: set([155, 119, 153, 122, 123, 135]),\n",
        " 121: set([135, 76, 118, 119, 122, 123, 124, 125]),\n",
        " 122: set([120, 121, 123]),\n",
        " 123: set([120, 121, 122, 135]),\n",
        " 124: set([130, 131, 121, 75, 125, 127]),\n",
        " 125: set([121, 127, 124, 126, 135]),\n",
        " 126: set([128, 127, 125, 135]),\n",
        " 127: set([128, 129, 130, 124, 125, 126]),\n",
        " 128: set([129, 130, 133, 135, 126, 127]),\n",
        " 129: set([128, 130, 127]),\n",
        " 130: set([128, 129, 131, 132, 133, 124, 127]),\n",
        " 131: set([130, 132, 69, 70, 124, 62]),\n",
        " 132: set([113, 130, 131, 133]),\n",
        " 133: set([128, 113, 114, 132, 135, 130]),\n",
        " 134: set([107, 113, 106, 115, 116]),\n",
        " 135: set([128,\n",
        "      133,\n",
        "      136,\n",
        "      137,\n",
        "      140,\n",
        "      143,\n",
        "      114,\n",
        "      116,\n",
        "      117,\n",
        "      169,\n",
        "      120,\n",
        "      121,\n",
        "      123,\n",
        "      125,\n",
        "      126]),\n",
        " 136: set([176, 137, 140, 135]),\n",
        " 137: set([135, 104, 177, 138, 110, 112, 136, 178, 117, 181]),\n",
        " 138: set([178, 103, 104, 137, 170, 44]),\n",
        " 139: set([96, 98, 164, 84, 86, 118, 148, 76, 146, 95]),\n",
        " 140: set([136, 169, 143, 135]),\n",
        " 141: set([144, 155, 142, 166, 143]),\n",
        " 142: set([144, 141]),\n",
        " 143: set([155, 135, 168, 169, 167, 140, 141]),\n",
        " 144: set([161, 162, 141, 142, 145, 146, 147, 150, 154, 155]),\n",
        " 145: set([144, 146, 162]),\n",
        " 146: set([162, 99, 164, 101, 139, 144, 145, 147, 84]),\n",
        " 147: set([144, 146, 164, 165, 150]),\n",
        " 148: set([139, 164, 149, 118, 150]),\n",
        " 149: set([160, 148, 150, 118, 151]),\n",
        " 150: set([164, 165, 144, 147, 148, 149, 151, 154]),\n",
        " 151: set([160, 149, 150, 152, 154, 158, 159]),\n",
        " 152: set([153, 154, 159, 156, 151]),\n",
        " 153: set([160, 152, 119, 120, 155, 156, 157, 159]),\n",
        " 154: set([144, 152, 155, 150, 151]),\n",
        " 155: set([141, 143, 144, 120, 153, 154, 156, 157]),\n",
        " 156: set([152, 153, 155, 157]),\n",
        " 157: set([153, 155, 156]),\n",
        " 158: set([160, 159, 151]),\n",
        " 159: set([152, 153, 160, 158, 151]),\n",
        " 160: set([149, 118, 151, 153, 158, 159]),\n",
        " 161: set([144, 162]),\n",
        " 162: set([144, 145, 146, 161]),\n",
        " 163: set([]),\n",
        " 164: set([146, 147, 148, 165, 150, 139]),\n",
        " 165: set([147, 164, 150]),\n",
        " 166: set([141]),\n",
        " 167: set([168, 143]),\n",
        " 168: set([143, 167]),\n",
        " 169: set([135, 140, 143]),\n",
        " 170: set([138, 178, 173]),\n",
        " 171: set([172, 173, 102, 103]),\n",
        " 172: set([171, 173, 174]),\n",
        " 173: set([193, 103, 170, 171, 172, 174, 175, 179, 182, 183]),\n",
        " 174: set([172, 173, 175]),\n",
        " 175: set([193, 173, 174]),\n",
        " 176: set([136, 177, 194, 186]),\n",
        " 177: set([176, 137, 186, 181, 185]),\n",
        " 178: set([179, 180, 181, 137, 138, 170]),\n",
        " 179: set([178, 180, 173, 182]),\n",
        " 180: set([178, 179, 181, 182, 184, 185]),\n",
        " 181: set([137, 178, 180, 185, 177]),\n",
        " 182: set([184, 179, 180, 173, 183]),\n",
        " 183: set([192, 193, 184, 173, 182]),\n",
        " 184: set([192, 180, 182, 183, 188, 190]),\n",
        " 185: set([177, 180, 181, 186, 187, 188]),\n",
        " 186: set([176, 177, 194, 187, 185]),\n",
        " 187: set([185, 186, 188, 194]),\n",
        " 188: set([194, 184, 185, 187, 189, 190]),\n",
        " 189: set([194, 188, 190]),\n",
        " 190: set([192, 194, 184, 188, 189, 191]),\n",
        " 191: set([193, 194, 190]),\n",
        " 192: set([184, 193, 190, 183]),\n",
        " 193: set([192, 175, 183, 173, 191]),\n",
        " 194: set([176, 186, 187, 188, 189, 190, 191])}"
       ]
      }
     ],
     "prompt_number": 69
    },
    {
     "cell_type": "code",
     "collapsed": false,
     "input": [
      "w == wp"
     ],
     "language": "python",
     "metadata": {},
     "outputs": [
      {
       "output_type": "pyout",
       "prompt_number": 70,
       "text": [
        "True"
       ]
      }
     ],
     "prompt_number": 70
    },
    {
     "cell_type": "code",
     "collapsed": false,
     "input": [
      "t2-t1"
     ],
     "language": "python",
     "metadata": {},
     "outputs": [
      {
       "output_type": "pyout",
       "prompt_number": 72,
       "text": [
        "0.05120205879211426"
       ]
      }
     ],
     "prompt_number": 72
    },
    {
     "cell_type": "code",
     "collapsed": false,
     "input": [
      "t4-t3"
     ],
     "language": "python",
     "metadata": {},
     "outputs": [
      {
       "output_type": "pyout",
       "prompt_number": 73,
       "text": [
        "0.6403670310974121"
       ]
      }
     ],
     "prompt_number": 73
    },
    {
     "cell_type": "code",
     "collapsed": false,
     "input": [],
     "language": "python",
     "metadata": {},
     "outputs": []
    }
   ],
   "metadata": {}
  }
 ]
}