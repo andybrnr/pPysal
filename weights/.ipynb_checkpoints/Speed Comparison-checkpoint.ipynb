{
 "metadata": {
  "name": ""
 },
 "nbformat": 3,
 "nbformat_minor": 0,
 "worksheets": [
  {
   "cells": [
    {
     "cell_type": "markdown",
     "metadata": {},
     "source": [
      "The idea is to test the following implementation types:\n",
      "\n",
      "1. rTree\n",
      "2. Binning By Bin\n",
      "3. Binning By Geometry\n",
      "4. Binning Parallel\n",
      "5. HPContainers\n",
      "6. HPCOntainers Parallel ?\n",
      "\n",
      "Test data will be both synthetic and real data.  Focus on real data first."
     ]
    },
    {
     "cell_type": "code",
     "collapsed": false,
     "input": [
      "import sys, time\n",
      "import pysal as ps\n",
      "from pysal.weights._contW_binning import ContiguityWeights_binning\n",
      "from pysal.weights._contW_binning import ContiguityWeightsLists\n",
      "from pysal.weights._contW_rtree import ContiguityWeights_rtree"
     ],
     "language": "python",
     "metadata": {},
     "outputs": [],
     "prompt_number": 1
    },
    {
     "cell_type": "markdown",
     "metadata": {},
     "source": [
      "This ignores the read times intentionally - read times should be constant within some range."
     ]
    },
    {
     "cell_type": "code",
     "collapsed": false,
     "input": [
      "polys = ps.open('/Users/jay/Desktop/CensusData/Merged__blockgroups_contUS_2010Census.shp')\n",
      "print \"Processing {} geometries\".format(len(polys))\n",
      "t1 = time.time()\n",
      "w = ContiguityWeights_binning(polys,1)\n",
      "t2 = time.time()\n",
      "print \"Binning {} polys required {} seconds.\".format(len(polys), t2-t1)\n",
      "t1 = time.time()\n",
      "w = ContiguityWeights_rtree(polys,1)\n",
      "t2 = time.time()\n",
      "print \"rTree {} polys required {} seconds.\".format(len(polys), t2-t1)\n",
      "t1 = time.time()\n",
      "w = ContiguityWeightsLists(polys,1)\n",
      "t2 = time.time()\n",
      "print \"Lists {} polys required {} seconds.\".format(len(polys), t2-t1)"
     ],
     "language": "python",
     "metadata": {},
     "outputs": [],
     "prompt_number": "*"
    },
    {
     "cell_type": "code",
     "collapsed": false,
     "input": [],
     "language": "python",
     "metadata": {},
     "outputs": []
    }
   ],
   "metadata": {}
  }
 ]
}