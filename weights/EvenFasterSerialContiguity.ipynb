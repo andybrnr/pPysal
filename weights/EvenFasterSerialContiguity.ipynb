{
 "metadata": {
  "name": ""
 },
 "nbformat": 3,
 "nbformat_minor": 0,
 "worksheets": [
  {
   "cells": [
    {
     "cell_type": "code",
     "collapsed": false,
     "input": [
      "import time\n",
      "import collections\n",
      "import sys\n",
      "\n",
      "sys.path.append('/Users/jay/github/pysal/')\n",
      "import pysal as ps\n",
      "\n",
      "#Just to confirm that I am on the newest version\n",
      "print ps.version"
     ],
     "language": "python",
     "metadata": {},
     "outputs": [
      {
       "output_type": "stream",
       "stream": "stdout",
       "text": [
        "1.7.0dev\n"
       ]
      }
     ],
     "prompt_number": 35
    },
    {
     "cell_type": "code",
     "collapsed": false,
     "input": [],
     "language": "python",
     "metadata": {},
     "outputs": [],
     "prompt_number": 36
    },
    {
     "cell_type": "markdown",
     "metadata": {},
     "source": [
      "Queen"
     ]
    },
    {
     "cell_type": "code",
     "collapsed": false,
     "input": [
      "def queen(fname):\n",
      "    ta = time.time()\n",
      "    t1 = time.time()\n",
      "    #fname = '10000_poly.shp'\n",
      "    shpFileObject = ps.open(fname)\n",
      "    if shpFileObject.type != ps.cg.Polygon:\n",
      "        print \"FAILED\"\n",
      "    numPoly = len(shpFileObject)\n",
      "    t2 = time.time()\n",
      "    #print \"Opening took {} seconds.\".format(t2-t1)\n",
      "    \n",
      "    t1 = time.time()\n",
      "        \n",
      "    w = {}\n",
      "    for i in range(numPoly):\n",
      "        w[i] = set()\n",
      "    t2 = time.time()\n",
      "    #print \"Preallocating the W took {} seconds.\".format(t2-t1)\n",
      "    \n",
      "    t1 = time.time()\n",
      "    geoms = []\n",
      "    offsets = []  #len(offsets) == len(geoms)\n",
      "    c = 0  #PolyID Counter\n",
      "    for n in range(numPoly):\n",
      "        verts = shpFileObject.get(n).vertices\n",
      "        offsets += [c] * len(verts)\n",
      "        geoms += (verts)\n",
      "        c += 1\n",
      "    t2 = time.time()\n",
      "    #print \"Reading took {} seconds.\".format(t2-t1)\n",
      "    \n",
      "    t1 = time.time()\n",
      "    items = collections.defaultdict(set)\n",
      "    for i, vertex in enumerate(geoms):\n",
      "        items[vertex].add(offsets[i])\n",
      "    shared_vertices = []\n",
      "    for item, location in items.iteritems():\n",
      "        if len(location) > 1:\n",
      "            shared_vertices.append(location)\n",
      "    t2 = time.time()\n",
      "    #print \"Shared vertex identification took {} seconds\".format(t2-t1)\n",
      "    #Shared Vertices is a list, by index of those polys that share a vertex.\n",
      "    t1 = time.time()\n",
      "    for vert_set in shared_vertices:\n",
      "        for v in vert_set:\n",
      "            w[v] = w[v] | vert_set\n",
      "            try:\n",
      "                w[v].remove(v)\n",
      "            except:\n",
      "                pass\n",
      "    t2 = time.time()\n",
      "    #print \"Converting from shared points to W took {} seconds.\".format(t2-t1)\n",
      "    tb = time.time()\n",
      "    print \"Total processing time was {} seconds.\".format(tb-ta)"
     ],
     "language": "python",
     "metadata": {},
     "outputs": [],
     "prompt_number": 42
    },
    {
     "cell_type": "code",
     "collapsed": false,
     "input": [
      "import pysal as ps\n",
      "t1 = time.time()\n",
      "w = ps.queen_from_shapefile(fname)\n",
      "t2 = time.time()\n",
      "print t2-t1\n"
     ],
     "language": "python",
     "metadata": {},
     "outputs": [
      {
       "output_type": "stream",
       "stream": "stdout",
       "text": [
        "1.51269388199\n"
       ]
      }
     ],
     "prompt_number": 40
    },
    {
     "cell_type": "code",
     "collapsed": false,
     "input": [
      "#Check to see that these two dicts are identical\n",
      "for k, v in w.neighbors.iteritems():\n",
      "    if sorted(improved_w[k]) != sorted(v):\n",
      "        print improved_w[k], v"
     ],
     "language": "python",
     "metadata": {},
     "outputs": [],
     "prompt_number": 41
    },
    {
     "cell_type": "markdown",
     "metadata": {},
     "source": [
      "Rook"
     ]
    },
    {
     "cell_type": "code",
     "collapsed": false,
     "input": [
      "def rook(fname):\n",
      "    ta = time.time()\n",
      "    t1 = time.time()\n",
      "    #fname = '2500_poly.shp'\n",
      "    shpFileObject = ps.open(fname)\n",
      "    if shpFileObject.type != ps.cg.Polygon:\n",
      "        print \"FAILED\"\n",
      "    numPoly = len(shpFileObject)\n",
      "    t2 = time.time()\n",
      "    #print \"Opening took {} seconds.\".format(t2-t1)\n",
      "    \n",
      "    t1 = time.time()\n",
      "        \n",
      "    w = {}\n",
      "    for i in range(numPoly):\n",
      "        w[i] = set()\n",
      "    t2 = time.time()\n",
      "    #print \"Preallocating the W took {} seconds.\".format(t2-t1)\n",
      "    \n",
      "    t1 = time.time()\n",
      "    geoms = []\n",
      "    offsets = []  #len(offsets) == len(geoms)\n",
      "    c = 0  #PolyID Counter\n",
      "    for n in range(numPoly):\n",
      "        verts = shpFileObject.get(n).vertices\n",
      "        for v in range(len(verts)-1):\n",
      "            geoms.append(tuple(sorted([verts[v], verts[v+1]])))\n",
      "        offsets += [c] * (len(verts)-1)\n",
      "        c += 1\n",
      "    t2 = time.time()\n",
      "    #print \"Reading took {} seconds.\".format(t2-t1)\n",
      "    \n",
      "    t1 = time.time()\n",
      "    items = collections.defaultdict(set)\n",
      "    for i, item in enumerate(geoms):\n",
      "        items[item].add(offsets[i])\n",
      "    shared_vertices = []\n",
      "    for item, location in items.iteritems():\n",
      "        if len(location) > 1:\n",
      "            shared_vertices.append(location)\n",
      "    t2 = time.time()\n",
      "    #print \"Shared vertex identification took {} seconds\".format(t2-t1)\n",
      "    #Shared Vertices is a list, by index of those polys that share a vertex.\n",
      "    t1 = time.time()\n",
      "    for vert_set in shared_vertices:\n",
      "    \n",
      "        for v in vert_set:\n",
      "            w[v] = w[v] | vert_set\n",
      "            try:\n",
      "                w[v].remove(v)\n",
      "            except:\n",
      "                pass\n",
      "    t2 = time.time()\n",
      "    \n",
      "    t1 = time.time()\n",
      "    for k, v in w.iteritems():\n",
      "        w[k] = list(v)\n",
      "    t2 = time.time()\n",
      "    \n",
      "    tb = time.time()\n",
      "    print \"Total processing time was {} seconds.\".format(tb-ta)"
     ],
     "language": "python",
     "metadata": {},
     "outputs": [],
     "prompt_number": 43
    },
    {
     "cell_type": "code",
     "collapsed": false,
     "input": [
      "import pysal as ps\n",
      "t1 = time.time()\n",
      "w = ps.rook_from_shapefile(fname)\n",
      "t2 = time.time()\n",
      "print t2-t1\n",
      "print w[2499]"
     ],
     "language": "python",
     "metadata": {},
     "outputs": [
      {
       "output_type": "stream",
       "stream": "stdout",
       "text": [
        "2.30595707893\n",
        "{2262: 1.0, 3080: 1.0, 2353: 1.0, 2514: 1.0, 2326: 1.0, 2615: 1.0}\n"
       ]
      }
     ],
     "prompt_number": 33
    },
    {
     "cell_type": "code",
     "collapsed": false,
     "input": [
      "#Check to see that these two dicts are identical\n",
      "for k, v in w.neighbors.iteritems():\n",
      "    if sorted(improved_w[k]) != sorted(v):\n",
      "        print improved_w[k], v"
     ],
     "language": "python",
     "metadata": {},
     "outputs": [],
     "prompt_number": 34
    },
    {
     "cell_type": "code",
     "collapsed": false,
     "input": [
      "fnames = ['2500_poly.shp',\n",
      "          'TestData/10000_poly.shp',\n",
      "          'TestData/22500_poly.shp',\n",
      "          'TestData/40000_poly.shp',\n",
      "          'TestData/50000_poly.shp',\n",
      "          'TestData/62500_poly.shp',\n",
      "          'TestData/90000_poly.shp',\n",
      "          'TestData/100000_poly.shp']\n",
      "\n",
      "for f in fnames:\n",
      "    #Open the data source once to get the file pointer\n",
      "    touch = open(f)\n",
      "    touch.close()\n",
      "    print f\n",
      "    queen(f)\n",
      "    t1 = time.time()\n",
      "    ps.queen_from_shapefile(f)\n",
      "    t2 = time.time()\n",
      "    print \"Original queen took {} seconds\".format(t2 - t1)\n",
      "    rook(f)\n",
      "    t1 = time.time()\n",
      "    ps.rook_from_shapefile(f)\n",
      "    t2 = time.time()\n",
      "    print \"Original rook took {} seconds\".format(t2 - t1)\n",
      "    print"
     ],
     "language": "python",
     "metadata": {},
     "outputs": [
      {
       "output_type": "stream",
       "stream": "stdout",
       "text": [
        "2500_poly.shp\n",
        "Total processing time was 0.45458817482 seconds."
       ]
      },
      {
       "output_type": "stream",
       "stream": "stdout",
       "text": [
        "\n",
        "Original queen took 1.07005596161 seconds"
       ]
      },
      {
       "output_type": "stream",
       "stream": "stdout",
       "text": [
        "\n",
        "Total processing time was 0.727967023849 seconds."
       ]
      },
      {
       "output_type": "stream",
       "stream": "stdout",
       "text": [
        "\n",
        "Original rook took 1.16798591614 seconds"
       ]
      },
      {
       "output_type": "stream",
       "stream": "stdout",
       "text": [
        "\n",
        "\n",
        "TestData/10000_poly.shp\n",
        "Total processing time was 1.27110695839 seconds."
       ]
      },
      {
       "output_type": "stream",
       "stream": "stdout",
       "text": [
        "\n",
        "Original queen took 4.87641596794 seconds"
       ]
      },
      {
       "output_type": "stream",
       "stream": "stdout",
       "text": [
        "\n",
        "Total processing time was 1.79104304314 seconds."
       ]
      },
      {
       "output_type": "stream",
       "stream": "stdout",
       "text": [
        "\n",
        "Original rook took 6.33092308044 seconds"
       ]
      },
      {
       "output_type": "stream",
       "stream": "stdout",
       "text": [
        "\n",
        "\n",
        "TestData/22500_poly.shp\n",
        "Total processing time was 3.097905159 seconds."
       ]
      },
      {
       "output_type": "stream",
       "stream": "stdout",
       "text": [
        "\n",
        "Original queen took 16.385130167 seconds"
       ]
      },
      {
       "output_type": "stream",
       "stream": "stdout",
       "text": [
        "\n",
        "Total processing time was 3.43500900269 seconds."
       ]
      },
      {
       "output_type": "stream",
       "stream": "stdout",
       "text": [
        "\n",
        "WARNING: there is one disconnected observation (no neighbors)"
       ]
      },
      {
       "output_type": "stream",
       "stream": "stdout",
       "text": [
        "\n",
        "Island id:  [17647]\n",
        "Original rook took 18.7772500515 seconds"
       ]
      },
      {
       "output_type": "stream",
       "stream": "stdout",
       "text": [
        "\n",
        "\n",
        "TestData/40000_poly.shp\n",
        "Total processing time was 5.1691391468 seconds."
       ]
      },
      {
       "output_type": "stream",
       "stream": "stdout",
       "text": [
        "\n",
        "Original queen took 37.7573301792 seconds"
       ]
      },
      {
       "output_type": "stream",
       "stream": "stdout",
       "text": [
        "\n",
        "Total processing time was 6.94867897034 seconds."
       ]
      },
      {
       "output_type": "stream",
       "stream": "stdout",
       "text": [
        "\n",
        "Original rook took 44.9458069801 seconds"
       ]
      },
      {
       "output_type": "stream",
       "stream": "stdout",
       "text": [
        "\n",
        "\n",
        "TestData/50000_poly.shp\n",
        "Total processing time was 6.72036194801 seconds."
       ]
      },
      {
       "output_type": "stream",
       "stream": "stdout",
       "text": [
        "\n",
        "Original queen took 60.615033865 seconds"
       ]
      },
      {
       "output_type": "stream",
       "stream": "stdout",
       "text": [
        "\n",
        "Total processing time was 8.01557397842 seconds."
       ]
      },
      {
       "output_type": "stream",
       "stream": "stdout",
       "text": [
        "\n",
        "WARNING: there is one disconnected observation (no neighbors)"
       ]
      },
      {
       "output_type": "stream",
       "stream": "stdout",
       "text": [
        "\n",
        "Island id:  [35229]\n",
        "Original rook took 60.5921809673 seconds"
       ]
      },
      {
       "output_type": "stream",
       "stream": "stdout",
       "text": [
        "\n",
        "\n",
        "TestData/62500_poly.shp\n",
        "Total processing time was 7.85625100136 seconds."
       ]
      },
      {
       "output_type": "stream",
       "stream": "stdout",
       "text": [
        "\n",
        "Original queen took 80.6158120632 seconds"
       ]
      },
      {
       "output_type": "stream",
       "stream": "stdout",
       "text": [
        "\n",
        "Total processing time was 9.91741108894 seconds."
       ]
      },
      {
       "output_type": "stream",
       "stream": "stdout",
       "text": [
        "\n",
        "Original rook took 88.5189139843 seconds"
       ]
      },
      {
       "output_type": "stream",
       "stream": "stdout",
       "text": [
        "\n",
        "\n",
        "TestData/90000_poly.shp\n",
        "Total processing time was 11.6823840141 seconds."
       ]
      },
      {
       "output_type": "stream",
       "stream": "stdout",
       "text": [
        "\n",
        "Original queen took 158.111407995 seconds"
       ]
      },
      {
       "output_type": "stream",
       "stream": "stdout",
       "text": [
        "\n",
        "Total processing time was 14.2835550308 seconds."
       ]
      },
      {
       "output_type": "stream",
       "stream": "stdout",
       "text": [
        "\n",
        "Original rook took 162.452570915 seconds"
       ]
      },
      {
       "output_type": "stream",
       "stream": "stdout",
       "text": [
        "\n",
        "\n",
        "TestData/100000_poly.shp\n",
        "Total processing time was 12.812087059 seconds."
       ]
      },
      {
       "output_type": "stream",
       "stream": "stdout",
       "text": [
        "\n",
        "Original queen took 191.939512968 seconds"
       ]
      },
      {
       "output_type": "stream",
       "stream": "stdout",
       "text": [
        "\n",
        "Total processing time was 16.4100689888 seconds."
       ]
      },
      {
       "output_type": "stream",
       "stream": "stdout",
       "text": [
        "\n",
        "Original rook took 203.032716036 seconds"
       ]
      },
      {
       "output_type": "stream",
       "stream": "stdout",
       "text": [
        "\n",
        "\n"
       ]
      }
     ],
     "prompt_number": "*"
    },
    {
     "cell_type": "code",
     "collapsed": false,
     "input": [
      "queen_fast = np.array([0.45458817482,\n",
      "                       1.27110695839,\n",
      "                       3.097905159,\n",
      "                       5.1691391468,\n",
      "                       6.72036194801,\n",
      "                       7.85625100136,\n",
      "                       11.6823840141,\n",
      "                       12.812087059])\n",
      "queen_slow = np.array([1.07005596161,\n",
      "                       4.87641596794,\n",
      "                       16.385130167,\n",
      "                       37.7573301792,\n",
      "                       60.615033865,\n",
      "                       80.6158120632,\n",
      "                       158.111407995,\n",
      "                       191.939512968])\n",
      "rook_fast = np.array([0.727967023849,\n",
      "                      1.79104304314,\n",
      "                      3.43500900269,\n",
      "                      6.94867897034,\n",
      "                      8.01557397842,\n",
      "                      9.91741108894,\n",
      "                      14.2835550308,\n",
      "                      16.4100689888])\n",
      "rook_slow = np.array([1.16798591614,\n",
      "                      6.33092308044,\n",
      "                      18.7772500515,\n",
      "                      44.9458069801,\n",
      "                      60.5921809673,\n",
      "                      88.5189139843,\n",
      "                      162.452570915,\n",
      "                      203.032716036])\n",
      "x = np.array([2500,10000,22500,40000,50000,62500,90000,100000])"
     ],
     "language": "python",
     "metadata": {},
     "outputs": [],
     "prompt_number": 1
    },
    {
     "cell_type": "code",
     "collapsed": false,
     "input": [
      "plot(x, queen_fast, label='Fast')\n",
      "plot(x, queen_slow, label='Slow')\n",
      "xlabel('Num. Polys')\n",
      "ylabel('Time (sec.)')\n",
      "title('Queen')\n",
      "legend(loc=2)\n",
      "grid()"
     ],
     "language": "python",
     "metadata": {},
     "outputs": [
      {
       "metadata": {},
       "output_type": "display_data",
       "png": "[encoded data removed]",
       "text": [
        "<matplotlib.figure.Figure at 0x104daee10>"
       ]
      }
     ],
     "prompt_number": 9
    },
    {
     "cell_type": "code",
     "collapsed": false,
     "input": [
      "plot(x, rook_fast, label='Fast')\n",
      "plot(x, rook_slow, label='Slow')\n",
      "xlabel('Num. Polys')\n",
      "ylabel('Time (sec.)')\n",
      "title('Rook')\n",
      "legend(loc=2)\n",
      "grid()"
     ],
     "language": "python",
     "metadata": {},
     "outputs": [
      {
       "metadata": {},
       "output_type": "display_data",
       "png": "[encoded data removed]",
       "text": [
        "<matplotlib.figure.Figure at 0x105485410>"
       ]
      }
     ],
     "prompt_number": 11
    },
    {
     "cell_type": "code",
     "collapsed": false,
     "input": [
      "plot(x, queen_slow / queen_fast, label='Queen Speedup')\n",
      "plot(x, rook_slow / rook_fast, label='Rook Speedup')\n",
      "xlabel('Num. Polys')\n",
      "ylabel('Speedup')\n",
      "title('Rook')\n",
      "legend(loc=4)\n",
      "grid()"
     ],
     "language": "python",
     "metadata": {},
     "outputs": [
      {
       "metadata": {},
       "output_type": "display_data",
       "png": "[encoded data removed]",
       "text": [
        "<matplotlib.figure.Figure at 0x104dc7890>"
       ]
      }
     ],
     "prompt_number": 14
    },
    {
     "cell_type": "code",
     "collapsed": false,
     "input": [],
     "language": "python",
     "metadata": {},
     "outputs": []
    }
   ],
   "metadata": {}
  }
 ]
}