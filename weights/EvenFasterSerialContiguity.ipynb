{
 "metadata": {
  "name": ""
 },
 "nbformat": 3,
 "nbformat_minor": 0,
 "worksheets": [
  {
   "cells": [
    {
     "cell_type": "code",
     "collapsed": false,
     "input": [
      "import time\n",
      "\n",
      "import collections\n",
      "import sys\n",
      "\n",
      "sys.path.append('/Users/jay/github/pysal/')\n",
      "import pysal as ps\n",
      "#Just to confirm that I am on the newest version\n",
      "print ps.version"
     ],
     "language": "python",
     "metadata": {},
     "outputs": [
      {
       "output_type": "stream",
       "stream": "stdout",
       "text": [
        "1.7.0dev\n"
       ]
      }
     ],
     "prompt_number": 27
    },
    {
     "cell_type": "code",
     "collapsed": false,
     "input": [
      "fname = '/Users/jay/github/pysal/pysal/examples/NAT.shp'"
     ],
     "language": "python",
     "metadata": {},
     "outputs": [],
     "prompt_number": 28
    },
    {
     "cell_type": "markdown",
     "metadata": {},
     "source": [
      "Queen"
     ]
    },
    {
     "cell_type": "code",
     "collapsed": false,
     "input": [
      "ta = time.time()\n",
      "t1 = time.time()\n",
      "#fname = '10000_poly.shp'\n",
      "shpFileObject = ps.open(fname)\n",
      "if shpFileObject.type != ps.cg.Polygon:\n",
      "    print \"FAILED\"\n",
      "numPoly = len(shpFileObject)\n",
      "t2 = time.time()\n",
      "#print \"Opening took {} seconds.\".format(t2-t1)\n",
      "\n",
      "t1 = time.time()\n",
      "    \n",
      "w = {}\n",
      "for i in range(numPoly):\n",
      "    w[i] = set()\n",
      "t2 = time.time()\n",
      "#print \"Preallocating the W took {} seconds.\".format(t2-t1)\n",
      "\n",
      "t1 = time.time()\n",
      "geoms = []\n",
      "offsets = []  #len(offsets) == len(geoms)\n",
      "c = 0  #PolyID Counter\n",
      "for n in range(numPoly):\n",
      "    verts = shpFileObject.get(n).vertices\n",
      "    offsets += [c] * len(verts)\n",
      "    geoms += (verts)\n",
      "    c += 1\n",
      "t2 = time.time()\n",
      "#print \"Reading took {} seconds.\".format(t2-t1)\n",
      "\n",
      "t1 = time.time()\n",
      "items = collections.defaultdict(set)\n",
      "for i, vertex in enumerate(geoms):\n",
      "    items[vertex].add(offsets[i])\n",
      "shared_vertices = []\n",
      "for item, location in items.iteritems():\n",
      "    if len(location) > 1:\n",
      "        shared_vertices.append(location)\n",
      "t2 = time.time()\n",
      "#print \"Shared vertex identification took {} seconds\".format(t2-t1)\n",
      "#Shared Vertices is a list, by index of those polys that share a vertex.\n",
      "t1 = time.time()\n",
      "for vert_set in shared_vertices:\n",
      "    for v in vert_set:\n",
      "        w[v] = w[v] | vert_set\n",
      "        try:\n",
      "            w[v].remove(v)\n",
      "        except:\n",
      "            pass\n",
      "t2 = time.time()\n",
      "#print \"Converting from shared points to W took {} seconds.\".format(t2-t1)\n",
      "tb = time.time()\n",
      "print \"Total processing time was {} seconds.\".format(tb-ta)\n",
      "improved_w = w"
     ],
     "language": "python",
     "metadata": {},
     "outputs": [
      {
       "output_type": "stream",
       "stream": "stdout",
       "text": [
        "Total processing time was 1.01325392723 seconds.\n"
       ]
      }
     ],
     "prompt_number": 29
    },
    {
     "cell_type": "code",
     "collapsed": false,
     "input": [
      "import pysal as ps\n",
      "t1 = time.time()\n",
      "w = ps.queen_from_shapefile(fname)\n",
      "t2 = time.time()\n",
      "print t2-t1\n"
     ],
     "language": "python",
     "metadata": {},
     "outputs": [
      {
       "output_type": "stream",
       "stream": "stdout",
       "text": [
        "1.48258805275\n"
       ]
      }
     ],
     "prompt_number": 30
    },
    {
     "cell_type": "code",
     "collapsed": false,
     "input": [
      "#Check to see that these two dicts are identical\n",
      "for k, v in w.neighbors.iteritems():\n",
      "    if sorted(improved_w[k]) != sorted(v):\n",
      "        print improved_w[k], v"
     ],
     "language": "python",
     "metadata": {},
     "outputs": [],
     "prompt_number": 31
    },
    {
     "cell_type": "markdown",
     "metadata": {},
     "source": [
      "Rook"
     ]
    },
    {
     "cell_type": "code",
     "collapsed": false,
     "input": [
      "ta = time.time()\n",
      "t1 = time.time()\n",
      "#fname = '2500_poly.shp'\n",
      "shpFileObject = ps.open(fname)\n",
      "if shpFileObject.type != ps.cg.Polygon:\n",
      "    print \"FAILED\"\n",
      "numPoly = len(shpFileObject)\n",
      "t2 = time.time()\n",
      "#print \"Opening took {} seconds.\".format(t2-t1)\n",
      "\n",
      "t1 = time.time()\n",
      "    \n",
      "w = {}\n",
      "for i in range(numPoly):\n",
      "    w[i] = set()\n",
      "t2 = time.time()\n",
      "#print \"Preallocating the W took {} seconds.\".format(t2-t1)\n",
      "\n",
      "t1 = time.time()\n",
      "geoms = []\n",
      "offsets = []  #len(offsets) == len(geoms)\n",
      "c = 0  #PolyID Counter\n",
      "for n in range(numPoly):\n",
      "    verts = shpFileObject.get(n).vertices\n",
      "    for v in range(len(verts)-1):\n",
      "        geoms.append(tuple(sorted([verts[v], verts[v+1]])))\n",
      "    offsets += [c] * (len(verts)-1)\n",
      "    c += 1\n",
      "t2 = time.time()\n",
      "#print \"Reading took {} seconds.\".format(t2-t1)\n",
      "\n",
      "t1 = time.time()\n",
      "items = collections.defaultdict(set)\n",
      "for i, item in enumerate(geoms):\n",
      "    items[item].add(offsets[i])\n",
      "shared_vertices = []\n",
      "for item, location in items.iteritems():\n",
      "    if len(location) > 1:\n",
      "        shared_vertices.append(location)\n",
      "t2 = time.time()\n",
      "#print \"Shared vertex identification took {} seconds\".format(t2-t1)\n",
      "#Shared Vertices is a list, by index of those polys that share a vertex.\n",
      "t1 = time.time()\n",
      "for vert_set in shared_vertices:\n",
      "\n",
      "    for v in vert_set:\n",
      "        w[v] = w[v] | vert_set\n",
      "        try:\n",
      "            w[v].remove(v)\n",
      "        except:\n",
      "            pass\n",
      "t2 = time.time()\n",
      "\n",
      "t1 = time.time()\n",
      "for k, v in w.iteritems():\n",
      "    w[k] = list(v)\n",
      "t2 = time.time()\n",
      "\n",
      "tb = time.time()\n",
      "print \"Total processing time was {} seconds.\".format(tb-ta)\n",
      "improved_w = w"
     ],
     "language": "python",
     "metadata": {},
     "outputs": [
      {
       "output_type": "stream",
       "stream": "stdout",
       "text": [
        "Total processing time was 1.14628911018 seconds.\n"
       ]
      }
     ],
     "prompt_number": 32
    },
    {
     "cell_type": "code",
     "collapsed": false,
     "input": [
      "import pysal as ps\n",
      "t1 = time.time()\n",
      "w = ps.rook_from_shapefile(fname)\n",
      "t2 = time.time()\n",
      "print t2-t1\n",
      "print w[2499]"
     ],
     "language": "python",
     "metadata": {},
     "outputs": [
      {
       "output_type": "stream",
       "stream": "stdout",
       "text": [
        "2.30595707893\n",
        "{2262: 1.0, 3080: 1.0, 2353: 1.0, 2514: 1.0, 2326: 1.0, 2615: 1.0}\n"
       ]
      }
     ],
     "prompt_number": 33
    },
    {
     "cell_type": "code",
     "collapsed": false,
     "input": [
      "#Check to see that these two dicts are identical\n",
      "for k, v in w.neighbors.iteritems():\n",
      "    if sorted(improved_w[k]) != sorted(v):\n",
      "        print improved_w[k], v"
     ],
     "language": "python",
     "metadata": {},
     "outputs": [],
     "prompt_number": 34
    },
    {
     "cell_type": "code",
     "collapsed": false,
     "input": [],
     "language": "python",
     "metadata": {},
     "outputs": [],
     "prompt_number": 109
    },
    {
     "cell_type": "code",
     "collapsed": false,
     "input": [],
     "language": "python",
     "metadata": {},
     "outputs": [],
     "prompt_number": 109
    },
    {
     "cell_type": "code",
     "collapsed": false,
     "input": [],
     "language": "python",
     "metadata": {},
     "outputs": []
    }
   ],
   "metadata": {}
  }
 ]
}