{
 "metadata": {
  "name": ""
 },
 "nbformat": 3,
 "nbformat_minor": 0,
 "worksheets": [
  {
   "cells": [
    {
     "cell_type": "code",
     "collapsed": false,
     "input": [
      "%load_ext fortranmagic"
     ],
     "language": "python",
     "metadata": {},
     "outputs": [
      {
       "javascript": [
        "$.getScript(\"https://raw.github.com/marijnh/CodeMirror/master/mode/fortran/fortran.js\", function () {\n",
        "IPython.config.cell_magic_highlight['magic_fortran'] = {'reg':[/^%%fortran/]};});\n"
       ],
       "metadata": {},
       "output_type": "display_data"
      }
     ],
     "prompt_number": 1
    },
    {
     "cell_type": "code",
     "collapsed": false,
     "input": [
      "%%fortran\n",
      "    subroutine f1(n)\n",
      "    INTEGER j\n",
      "    INTEGER, DIMENSION(4,4) ::array\n",
      "            array = reshape((/ 9,9,6,-1,9,30,5,22,6,5,10,0,-1,22,0,36 /), shape(array))\n",
      "    DO 20 j = 1, n\n",
      "        print *, 'NEW J'\n",
      "        print *, array(1:, j)\n",
      "        print *, array(j+1:,j) \n",
      "20 Continue\n",
      "    END\n",
      "\n",
      "end"
     ],
     "language": "python",
     "metadata": {},
     "outputs": [
      {
       "output_type": "stream",
       "stream": "stdout",
       "text": [
        "\tBuilding module \"_fortran_magic_ad7f7624d535ee52eb60f74a4504fe5a\"...\n",
        "\t\tConstructing wrapper function \"f1\"...\n",
        "\t\t  f1(n)\n",
        "\tWrote C/API module \"_fortran_magic_ad7f7624d535ee52eb60f74a4504fe5a\" to file \"/var/folders/zz/zyxvpxvq6csfxvn_n00008yc00027l/T/tmpm9Oc0Z/src.macosx-10.5-x86_64-2.7/_fortran_magic_ad7f7624d535ee52eb60f74a4504fe5amodule.c\"\n"
       ]
      }
     ],
     "prompt_number": 6
    },
    {
     "cell_type": "code",
     "collapsed": false,
     "input": [
      "f1(4)"
     ],
     "language": "python",
     "metadata": {},
     "outputs": [],
     "prompt_number": 7
    },
    {
     "cell_type": "code",
     "collapsed": false,
     "input": [
      "%%file test.py\n",
      "import testf\n",
      "testf.f1(2)"
     ],
     "language": "python",
     "metadata": {},
     "outputs": [
      {
       "output_type": "stream",
       "stream": "stdout",
       "text": [
        "Overwriting test.py\n"
       ]
      }
     ],
     "prompt_number": 51
    },
    {
     "cell_type": "code",
     "collapsed": false,
     "input": [
      "!python test.py"
     ],
     "language": "python",
     "metadata": {},
     "outputs": [
      {
       "output_type": "stream",
       "stream": "stdout",
       "text": [
        "Traceback (most recent call last):\r\n",
        "  File \"test.py\", line 1, in <module>\r\n",
        "    import testf\r\n",
        "ImportError: No module named testf\r\n"
       ]
      }
     ],
     "prompt_number": 52
    },
    {
     "cell_type": "code",
     "collapsed": false,
     "input": [
      "%%fortran\n",
      "subroutine f1(x, y, z)\n",
      "    real, intent(in) :: x,y\n",
      "    real, intent(out) :: z\n",
      "\n",
      "    z = sin(x+y)\n",
      "\n",
      "end subroutine f1"
     ],
     "language": "python",
     "metadata": {},
     "outputs": [
      {
       "output_type": "stream",
       "stream": "stdout",
       "text": [
        "\tBuilding module \"_fortran_magic_4d8bc857b5604a359550a6a7ae3b2578\"...\n",
        "\t\tConstructing wrapper function \"f1\"...\n",
        "\t\t  z = f1(x,y)\n",
        "\tWrote C/API module \"_fortran_magic_4d8bc857b5604a359550a6a7ae3b2578\" to file \"/var/folders/zz/zyxvpxvq6csfxvn_n00008yc00027l/T/tmp16Inxr/src.macosx-10.5-x86_64-2.7/_fortran_magic_4d8bc857b5604a359550a6a7ae3b2578module.c\"\n"
       ]
      }
     ],
     "prompt_number": 12
    },
    {
     "cell_type": "code",
     "collapsed": false,
     "input": [
      "import numpy as np\n",
      "x = np.array([1,2,3,4])\n",
      "y = np.arange(4)"
     ],
     "language": "python",
     "metadata": {},
     "outputs": [],
     "prompt_number": 7
    },
    {
     "cell_type": "code",
     "collapsed": false,
     "input": [
      "x * y"
     ],
     "language": "python",
     "metadata": {},
     "outputs": [
      {
       "metadata": {},
       "output_type": "pyout",
       "prompt_number": 9,
       "text": [
        "array([ 0,  2,  6, 12])"
       ]
      }
     ],
     "prompt_number": 9
    },
    {
     "cell_type": "code",
     "collapsed": false,
     "input": [
      "x.dot(y)"
     ],
     "language": "python",
     "metadata": {},
     "outputs": [
      {
       "metadata": {},
       "output_type": "pyout",
       "prompt_number": 10,
       "text": [
        "20"
       ]
      }
     ],
     "prompt_number": 10
    },
    {
     "cell_type": "code",
     "collapsed": false,
     "input": [],
     "language": "python",
     "metadata": {},
     "outputs": []
    }
   ],
   "metadata": {}
  }
 ]
}